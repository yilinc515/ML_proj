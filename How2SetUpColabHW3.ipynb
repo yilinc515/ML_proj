{
  "cells": [
    {
      "cell_type": "markdown",
      "metadata": {},
      "source": [
        "## Preparing for colab\n",
        "Before using colab, you will need to upload the contents of the programming hw code to your google drive (unzipped).\n",
        "\n",
        "Once it has been uploaded, you can create a colab notebook.\n",
        "\n",
        "The following steps demonstrate how to connect your collab notebook with the files you have uploaded and how to run your scripts in your notebook as terminal commands.\n"
      ]
    },
    {
      "cell_type": "code",
      "execution_count": 1,
      "metadata": {
        "colab": {
          "base_uri": "https://localhost:8080/"
        },
        "id": "yPA-T7gGEur3",
        "outputId": "273068c7-edde-47ec-ddcb-07630a2ba89e"
      },
      "outputs": [
        {
          "name": "stdout",
          "output_type": "stream",
          "text": [
            "Drive already mounted at /content/drive; to attempt to forcibly remount, call drive.mount(\"/content/drive\", force_remount=True).\n"
          ]
        }
      ],
      "source": [
        "# Mount your google drive. You may have to give colab permissions for accessing your google drive.\n",
        "from google.colab import drive\n",
        "drive.mount('/content/drive')"
      ]
    },
    {
      "cell_type": "code",
      "execution_count": 2,
      "metadata": {
        "colab": {
          "base_uri": "https://localhost:8080/"
        },
        "id": "0BSb5W6CFd4O",
        "outputId": "d5831ecd-2218-413e-f60f-bf092d9e4fac"
      },
      "outputs": [
        {
          "name": "stdout",
          "output_type": "stream",
          "text": [
            "/content\n"
          ]
        }
      ],
      "source": [
        "# This is the present working directory. Note, shell commands in colab have a \"!\" in front of them!\n",
        "!pwd"
      ]
    },
    {
      "cell_type": "code",
      "execution_count": 8,
      "metadata": {
        "colab": {
          "base_uri": "https://localhost:8080/"
        },
        "id": "aqerT2rVGC4P",
        "outputId": "cd3368a8-5723-4114-8f02-cc1868ff8bac"
      },
      "outputs": [
        {
          "name": "stdout",
          "output_type": "stream",
          "text": [
            "/content/drive/MyDrive/hw3/2022_code\n",
            "total 39\n",
            "drwx------ 2 root root 4096 Feb 28 16:04 datasets\n",
            "drwx------ 2 root root 4096 Feb 28 16:04 log_files\n",
            "-rw------- 1 root root 6871 Feb 27 15:14 main_bestmodel.py\n",
            "-rw------- 1 root root 6756 Feb 27 15:14 main_convnet.py\n",
            "-rw------- 1 root root 6630 Feb 27 15:14 main_densenet.py\n",
            "drwx------ 2 root root 4096 Feb 28 16:04 model_files\n",
            "-rw------- 1 root root   61 Feb 28 16:23 reqs.txt\n",
            "-rw------- 1 root root 1627 Feb 28 15:19 run.sh\n",
            "drwx------ 3 root root 4096 Feb 28 16:04 utils\n"
          ]
        }
      ],
      "source": [
        "# Change working directory to where you have uploaded the zip folder contents (in your google drive)\n",
        "# Note that this shell command starts with \"%\", which tells colab to change the working directory.\n",
        "# your directory may be different!\n",
        "%cd drive/MyDrive/hw3/2022_code/ \n",
        "# List directory contents\n",
        "!ls -la "
      ]
    },
    {
      "cell_type": "code",
      "execution_count": 9,
      "metadata": {
        "colab": {
          "base_uri": "https://localhost:8080/"
        },
        "id": "kVfaOHtGGH3r",
        "outputId": "3f8a92b1-6481-45b7-f138-2215b89dd6b7"
      },
      "outputs": [
        {
          "name": "stdout",
          "output_type": "stream",
          "text": [
            "/content/drive/MyDrive/hw3/2022_code\n"
          ]
        }
      ],
      "source": [
        "# Now when you run \"pwd\", you can see that your working directory has been changed to pwd\n",
        "!pwd"
      ]
    },
    {
      "cell_type": "code",
      "execution_count": 10,
      "metadata": {
        "colab": {
          "base_uri": "https://localhost:8080/"
        },
        "id": "2KRvSIDpGPkL",
        "outputId": "395a3f3e-9413-4a24-dd21-87e256a2bb3a"
      },
      "outputs": [
        {
          "name": "stdout",
          "output_type": "stream",
          "text": [
            "Requirement already satisfied: numpy==1.21.5 in /usr/local/lib/python3.7/dist-packages (from -r reqs.txt (line 1)) (1.21.5)\n",
            "Requirement already satisfied: scikit-image==0.19.2 in /usr/local/lib/python3.7/dist-packages (from -r reqs.txt (line 2)) (0.19.2)\n",
            "Requirement already satisfied: scipy==1.7.3 in /usr/local/lib/python3.7/dist-packages (from -r reqs.txt (line 3)) (1.7.3)\n",
            "Collecting torch==1.10.0\n",
            "  Downloading torch-1.10.0-cp37-cp37m-manylinux1_x86_64.whl (881.9 MB)\n",
            "\u001b[K     |██████████████████████████████▎ | 834.1 MB 1.3 MB/s eta 0:00:37tcmalloc: large alloc 1147494400 bytes == 0x55c4e7250000 @  0x7f5bd5621615 0x55c4ad9553bc 0x55c4ada3618a 0x55c4ad9581cd 0x55c4ada4ab3d 0x55c4ad9cc458 0x55c4ad9c702f 0x55c4ad959aba 0x55c4ad9cc2c0 0x55c4ad9c702f 0x55c4ad959aba 0x55c4ad9c8cd4 0x55c4ada4b986 0x55c4ad9c8350 0x55c4ada4b986 0x55c4ad9c8350 0x55c4ada4b986 0x55c4ad9c8350 0x55c4ad959f19 0x55c4ad99da79 0x55c4ad958b32 0x55c4ad9cc1dd 0x55c4ad9c702f 0x55c4ad959aba 0x55c4ad9c8cd4 0x55c4ad9c702f 0x55c4ad959aba 0x55c4ad9c7eae 0x55c4ad9599da 0x55c4ad9c8108 0x55c4ad9c702f\n",
            "\u001b[K     |████████████████████████████████| 881.9 MB 18 kB/s \n",
            "\u001b[?25hRequirement already satisfied: PyWavelets>=1.1.1 in /usr/local/lib/python3.7/dist-packages (from scikit-image==0.19.2->-r reqs.txt (line 2)) (1.2.0)\n",
            "Requirement already satisfied: packaging>=20.0 in /usr/local/lib/python3.7/dist-packages (from scikit-image==0.19.2->-r reqs.txt (line 2)) (21.3)\n",
            "Requirement already satisfied: tifffile>=2019.7.26 in /usr/local/lib/python3.7/dist-packages (from scikit-image==0.19.2->-r reqs.txt (line 2)) (2021.11.2)\n",
            "Requirement already satisfied: imageio>=2.4.1 in /usr/local/lib/python3.7/dist-packages (from scikit-image==0.19.2->-r reqs.txt (line 2)) (2.4.1)\n",
            "Requirement already satisfied: networkx>=2.2 in /usr/local/lib/python3.7/dist-packages (from scikit-image==0.19.2->-r reqs.txt (line 2)) (2.6.3)\n",
            "Requirement already satisfied: pillow!=7.1.0,!=7.1.1,!=8.3.0,>=6.1.0 in /usr/local/lib/python3.7/dist-packages (from scikit-image==0.19.2->-r reqs.txt (line 2)) (7.1.2)\n",
            "Requirement already satisfied: typing-extensions in /usr/local/lib/python3.7/dist-packages (from torch==1.10.0->-r reqs.txt (line 4)) (3.10.0.2)\n",
            "Requirement already satisfied: pyparsing!=3.0.5,>=2.0.2 in /usr/local/lib/python3.7/dist-packages (from packaging>=20.0->scikit-image==0.19.2->-r reqs.txt (line 2)) (3.0.7)\n",
            "Installing collected packages: torch\n",
            "  Attempting uninstall: torch\n",
            "    Found existing installation: torch 1.10.2\n",
            "    Uninstalling torch-1.10.2:\n",
            "      Successfully uninstalled torch-1.10.2\n",
            "Successfully installed torch-1.10.0\n"
          ]
        }
      ],
      "source": [
        "# Install requirements for python.\n",
        "!pip install -r reqs.txt"
      ]
    },
    {
      "cell_type": "code",
      "execution_count": 11,
      "metadata": {
        "colab": {
          "base_uri": "https://localhost:8080/"
        },
        "id": "JC6xSNUIGdZG",
        "outputId": "e75b0a75-b079-45b3-f17a-b50b8632b29a"
      },
      "outputs": [
        {
          "name": "stdout",
          "output_type": "stream",
          "text": [
            "usage: main_densenet.py [-h] [--dataDir DATA_DIR] [--logDir LOG_DIR]\n",
            "                        [--modelSaveDir MODEL_SAVE_DIR]\n",
            "                        [--predictionsFile PREDICTIONS_FILE] --mode\n",
            "                        {train,predict} [--LR LR] [--bs BS] [--epochs EPOCHS]\n",
            "                        [--weights WEIGHTS]\n",
            "main_densenet.py: error: the following arguments are required: --mode\n"
          ]
        }
      ],
      "source": [
        "# Run a sample command (this command won't run because not all args are provided, \n",
        "# which will give the required arguments and the formatting of the arguments needed.\n",
        "!python main_densenet.py"
      ]
    },
    {
      "cell_type": "code",
      "execution_count": 14,
      "metadata": {
        "colab": {
          "base_uri": "https://localhost:8080/"
        },
        "id": "4V0gV7edKT5h",
        "outputId": "56bf18de-3ff2-472c-c85c-080eaecada01"
      },
      "outputs": [
        {
          "name": "stdout",
          "output_type": "stream",
          "text": [
            "main_densenet.py:92: DeprecationWarning: `np.int` is a deprecated alias for the builtin `int`. To silence this warning, use `int` by itself. Doing this will not modify any behavior and is safe. When replacing `np.int`, you may wish to use e.g. `np.int64` or `np.int32` to specify the precision. If you wish to review your current use, check the release note link for additional information.\n",
            "Deprecated in NumPy 1.20; for more details and guidance: https://numpy.org/devdocs/release/1.20.0-notes.html#deprecations\n",
            "  y = torch.from_numpy(TRAIN_LABELS[i].astype(np.int))\n",
            "On step 0:\tTrain loss 1.847336769104004\t|\tDev acc is 0.15662037037037038\n",
            "Training completed, saving model at {model_savepath}\n"
          ]
        }
      ],
      "source": [
        "# sample single command\n",
        "!python main_densenet.py --mode \"train\" \\\n",
        "                        --dataDir \"datasets\" \\\n",
        "                        --logDir \"log_files\" \\\n",
        "                        --modelSaveDir \"model_files\" \\\n",
        "                        --LR 0.0001 \\\n",
        "                        --bs 100 \\\n",
        "                        --epochs 1\n"
      ]
    },
    {
      "cell_type": "code",
      "execution_count": 12,
      "metadata": {
        "colab": {
          "base_uri": "https://localhost:8080/"
        },
        "id": "trOQJ3MsG0NA",
        "outputId": "5cfc2502-04cc-414b-bd07-08d060a0248c"
      },
      "outputs": [
        {
          "name": "stdout",
          "output_type": "stream",
          "text": [
            "main_densenet.py:92: DeprecationWarning: `np.int` is a deprecated alias for the builtin `int`. To silence this warning, use `int` by itself. Doing this will not modify any behavior and is safe. When replacing `np.int`, you may wish to use e.g. `np.int64` or `np.int32` to specify the precision. If you wish to review your current use, check the release note link for additional information.\n",
            "Deprecated in NumPy 1.20; for more details and guidance: https://numpy.org/devdocs/release/1.20.0-notes.html#deprecations\n",
            "  y = torch.from_numpy(TRAIN_LABELS[i].astype(np.int))\n",
            "On step 0:\tTrain loss 1.7744767665863037\t|\tDev acc is 0.20203703703703704\n",
            "On step 100:\tTrain loss 0.9263244271278381\t|\tDev acc is 0.6930555555555555\n",
            "On step 200:\tTrain loss 0.7689317464828491\t|\tDev acc is 0.7335648148148148\n",
            "On step 300:\tTrain loss 0.7070397138595581\t|\tDev acc is 0.7622685185185185\n",
            "On step 400:\tTrain loss 0.6659621000289917\t|\tDev acc is 0.7787962962962963\n",
            "On step 500:\tTrain loss 0.6227546334266663\t|\tDev acc is 0.7871759259259259\n",
            "On step 600:\tTrain loss 0.6306470632553101\t|\tDev acc is 0.7922222222222223\n",
            "On step 700:\tTrain loss 0.5811062455177307\t|\tDev acc is 0.801712962962963\n",
            "On step 800:\tTrain loss 0.5798389911651611\t|\tDev acc is 0.8072222222222222\n",
            "On step 900:\tTrain loss 0.5735633969306946\t|\tDev acc is 0.8106481481481481\n",
            "On step 1000:\tTrain loss 0.5591607093811035\t|\tDev acc is 0.8149537037037037\n",
            "On step 1100:\tTrain loss 0.5210040807723999\t|\tDev acc is 0.8156481481481481\n",
            "On step 1200:\tTrain loss 0.538533091545105\t|\tDev acc is 0.8177314814814814\n",
            "On step 1300:\tTrain loss 0.5278023481369019\t|\tDev acc is 0.8208333333333333\n",
            "On step 1400:\tTrain loss 0.5320026278495789\t|\tDev acc is 0.8241666666666667\n",
            "On step 1500:\tTrain loss 0.5498064756393433\t|\tDev acc is 0.8268981481481481\n",
            "On step 1600:\tTrain loss 0.4889284670352936\t|\tDev acc is 0.8298148148148148\n",
            "On step 1700:\tTrain loss 0.4911894202232361\t|\tDev acc is 0.8298611111111112\n",
            "Traceback (most recent call last):\n",
            "  File \"main_densenet.py\", line 90, in <module>\n",
            "    i = np.random.choice(flat_train_imgs.shape[0], size=BATCH_SIZE, replace=False)\n",
            "KeyboardInterrupt\n",
            "main_convnet.py:94: DeprecationWarning: `np.int` is a deprecated alias for the builtin `int`. To silence this warning, use `int` by itself. Doing this will not modify any behavior and is safe. When replacing `np.int`, you may wish to use e.g. `np.int64` or `np.int32` to specify the precision. If you wish to review your current use, check the release note link for additional information.\n",
            "Deprecated in NumPy 1.20; for more details and guidance: https://numpy.org/devdocs/release/1.20.0-notes.html#deprecations\n",
            "  y = torch.from_numpy(TRAIN_LABELS[i].astype(np.int))\n",
            "On step 0:\tTrain loss 1.7992010116577148\t|\tDev acc is 0.16666666666666666\n",
            "On step 100:\tTrain loss 1.2721396684646606\t|\tDev acc is 0.5527314814814814\n",
            "On step 200:\tTrain loss 1.1053392887115479\t|\tDev acc is 0.5780555555555555\n",
            "On step 300:\tTrain loss 1.0081828832626343\t|\tDev acc is 0.6365740740740741\n",
            "Traceback (most recent call last):\n",
            "  File \"main_convnet.py\", line 109, in <module>\n",
            "    dev_acc, dev_loss = dev_acc_and_loss(model, flat_dev_imgs, DEV_LABELS)\n",
            "  File \"/content/drive/MyDrive/hw3/2022_code/utils/accuracies.py\", line 57, in dev_acc_and_loss\n",
            "    logits = model(x)\n",
            "  File \"/usr/local/lib/python3.7/dist-packages/torch/nn/modules/module.py\", line 1102, in _call_impl\n",
            "    return forward_call(*input, **kwargs)\n",
            "  File \"main_convnet.py\", line 36, in forward\n",
            "    x = F.relu(self.conv2(x))\n",
            "  File \"/usr/local/lib/python3.7/dist-packages/torch/nn/modules/module.py\", line 1102, in _call_impl\n",
            "    return forward_call(*input, **kwargs)\n",
            "  File \"/usr/local/lib/python3.7/dist-packages/torch/nn/modules/conv.py\", line 446, in forward\n",
            "    return self._conv_forward(input, self.weight, self.bias)\n",
            "  File \"/usr/local/lib/python3.7/dist-packages/torch/nn/modules/conv.py\", line 443, in _conv_forward\n",
            "    self.padding, self.dilation, self.groups)\n",
            "KeyboardInterrupt\n",
            "^C\n"
          ]
        }
      ],
      "source": [
        "# Run the test script with sample commands \n",
        "!bash run.sh"
      ]
    }
  ],
  "metadata": {
    "colab": {
      "collapsed_sections": [],
      "name": "How2SetUpColabHW3.ipynb",
      "provenance": []
    },
    "kernelspec": {
      "display_name": "Python 3",
      "name": "python3"
    },
    "language_info": {
      "name": "python"
    }
  },
  "nbformat": 4,
  "nbformat_minor": 0
}
